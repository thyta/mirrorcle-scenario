{
 "cells": [
  {
   "cell_type": "code",
   "execution_count": 1,
   "id": "a8954e6c-e740-43a9-895e-22bcfb6c12ea",
   "metadata": {},
   "outputs": [],
   "source": [
    "import pandas as pd\n",
    "import networkx as nx\n",
    "import matplotlib.pyplot as plt\n",
    "from community import community_louvain\n",
    "import networkx as nx\n",
    "from pyvis.network import Network"
   ]
  },
  {
   "cell_type": "code",
   "execution_count": 2,
   "id": "2af81647-5670-43d6-9bac-4f5a4e88b695",
   "metadata": {},
   "outputs": [],
   "source": [
    "df = pd.read_excel(\"store/base_combination.xlsx\")"
   ]
  },
  {
   "cell_type": "code",
   "execution_count": 3,
   "id": "d29a4b49-4838-45d8-95de-b226050db9f3",
   "metadata": {},
   "outputs": [],
   "source": [
    "df = df.drop(columns=[\"Unnamed: 0\"])"
   ]
  },
  {
   "cell_type": "code",
   "execution_count": 4,
   "id": "b0f9c9a2-ec90-4bf1-a89a-b130e347a095",
   "metadata": {},
   "outputs": [
    {
     "data": {
      "text/plain": [
       "(2035, 7)"
      ]
     },
     "execution_count": 4,
     "metadata": {},
     "output_type": "execute_result"
    }
   ],
   "source": [
    "df.shape"
   ]
  },
  {
   "cell_type": "markdown",
   "id": "9624873d-d025-4482-a3b1-e7d39bb914b3",
   "metadata": {},
   "source": [
    "# Specific conditions"
   ]
  },
  {
   "cell_type": "code",
   "execution_count": 5,
   "id": "f5547d9a-7b8d-419f-9fe0-d63888f6443f",
   "metadata": {},
   "outputs": [
    {
     "data": {
      "text/plain": [
       "Nội dung hỗ trợ\n",
       "Thanh lý hợp đồng internet                   1154\n",
       "Thanh lý hợp đồng truyền hình trong combo     503\n",
       "Thanh lý hợp đồng combo                       131\n",
       "Tạm ngưng hợp đồng internet                    91\n",
       "Tư vấn về cước                                 38\n",
       "Thay đổi gói cước internet                     31\n",
       "Thanh lý hợp đồng truyền hình                  22\n",
       "Giải quyết sự cố mạng                          19\n",
       "Hỗ trợ kĩ thuật                                16\n",
       "Thay đổi địa điểm sử dụng dịch vụ              14\n",
       "Thanh lý hợp đồng camera                     9\n",
       "Thanh lý hợp đồng internet trong combo          4\n",
       "Thay đổi gói cước combo                         3\n",
       "Name: count, dtype: int64"
      ]
     },
     "execution_count": 5,
     "metadata": {},
     "output_type": "execute_result"
    }
   ],
   "source": [
    "df['Nội dung hỗ trợ'].value_counts()"
   ]
  },
  {
   "cell_type": "code",
   "execution_count": 6,
   "id": "2e0b5cd5-55aa-470d-90a6-33c545f830ca",
   "metadata": {},
   "outputs": [],
   "source": [
    "condition = (df['Nội dung hỗ trợ'] == \"Thanh lý hợp đồng internet\") & (df['Reason'] == 'n40') & (df[\"Solution Result\"] == \"Thành công\")\n",
    "\n",
    "# condition = (df['Nội dung hỗ trợ'] == \"Thanh lý hợp đồng internet\") & (df[\"Solution Result\"] == \"Thành công\")\n",
    "\n",
    "# condition = (df[\"Solution Result\"] == \"Không thành công\")"
   ]
  },
  {
   "cell_type": "code",
   "execution_count": 7,
   "id": "1a95c350-ea5c-4e06-a5ce-3774c0e03dea",
   "metadata": {},
   "outputs": [],
   "source": [
    "processing_df = df[condition]\n",
    "\n",
    "# processing_df = df"
   ]
  },
  {
   "cell_type": "code",
   "execution_count": 8,
   "id": "7a710c19-3e0d-408d-bf5c-67248935c5ef",
   "metadata": {},
   "outputs": [
    {
     "data": {
      "text/html": [
       "<div>\n",
       "<style scoped>\n",
       "    .dataframe tbody tr th:only-of-type {\n",
       "        vertical-align: middle;\n",
       "    }\n",
       "\n",
       "    .dataframe tbody tr th {\n",
       "        vertical-align: top;\n",
       "    }\n",
       "\n",
       "    .dataframe thead th {\n",
       "        text-align: right;\n",
       "    }\n",
       "</style>\n",
       "<table border=\"1\" class=\"dataframe\">\n",
       "  <thead>\n",
       "    <tr style=\"text-align: right;\">\n",
       "      <th></th>\n",
       "      <th>case_id</th>\n",
       "      <th>Nội dung hỗ trợ</th>\n",
       "      <th>Reason</th>\n",
       "      <th>Reason Group</th>\n",
       "      <th>Solution</th>\n",
       "      <th>Combination</th>\n",
       "      <th>Solution Result</th>\n",
       "    </tr>\n",
       "  </thead>\n",
       "  <tbody>\n",
       "    <tr>\n",
       "      <th>144</th>\n",
       "      <td>35</td>\n",
       "      <td>Thanh lý hợp đồng internet</td>\n",
       "      <td>n40</td>\n",
       "      <td>Nguyên nhân liên quan đến chất lượng dịch vụ</td>\n",
       "      <td>s4</td>\n",
       "      <td>dx1+dx10</td>\n",
       "      <td>Thành công</td>\n",
       "    </tr>\n",
       "    <tr>\n",
       "      <th>382</th>\n",
       "      <td>106</td>\n",
       "      <td>Thanh lý hợp đồng internet</td>\n",
       "      <td>n40</td>\n",
       "      <td>Nguyên nhân liên quan đến chất lượng dịch vụ</td>\n",
       "      <td>s2</td>\n",
       "      <td>ll4+dx1+dx14</td>\n",
       "      <td>Thành công</td>\n",
       "    </tr>\n",
       "    <tr>\n",
       "      <th>517</th>\n",
       "      <td>154</td>\n",
       "      <td>Thanh lý hợp đồng internet</td>\n",
       "      <td>n40</td>\n",
       "      <td>Nguyên nhân liên quan đến chất lượng dịch vụ</td>\n",
       "      <td>s2</td>\n",
       "      <td>dx1+dx6+dx13+ll6</td>\n",
       "      <td>Thành công</td>\n",
       "    </tr>\n",
       "    <tr>\n",
       "      <th>582</th>\n",
       "      <td>174</td>\n",
       "      <td>Thanh lý hợp đồng internet</td>\n",
       "      <td>n40</td>\n",
       "      <td>Nguyên nhân liên quan đến chất lượng dịch vụ</td>\n",
       "      <td>s2</td>\n",
       "      <td>dx1+dx8+dx14</td>\n",
       "      <td>Thành công</td>\n",
       "    </tr>\n",
       "    <tr>\n",
       "      <th>590</th>\n",
       "      <td>177</td>\n",
       "      <td>Thanh lý hợp đồng internet</td>\n",
       "      <td>n40</td>\n",
       "      <td>Nguyên nhân liên quan đến chất lượng dịch vụ</td>\n",
       "      <td>s3</td>\n",
       "      <td>dx1+dx6</td>\n",
       "      <td>Thành công</td>\n",
       "    </tr>\n",
       "    <tr>\n",
       "      <th>592</th>\n",
       "      <td>178</td>\n",
       "      <td>Thanh lý hợp đồng internet</td>\n",
       "      <td>n40</td>\n",
       "      <td>Nguyên nhân liên quan đến chất lượng dịch vụ</td>\n",
       "      <td>s2</td>\n",
       "      <td>dx1+ll7+ll4</td>\n",
       "      <td>Thành công</td>\n",
       "    </tr>\n",
       "    <tr>\n",
       "      <th>616</th>\n",
       "      <td>185</td>\n",
       "      <td>Thanh lý hợp đồng internet</td>\n",
       "      <td>n40</td>\n",
       "      <td>Nguyên nhân liên quan đến chất lượng dịch vụ</td>\n",
       "      <td>s2</td>\n",
       "      <td>dx1+ll25</td>\n",
       "      <td>Thành công</td>\n",
       "    </tr>\n",
       "    <tr>\n",
       "      <th>750</th>\n",
       "      <td>237</td>\n",
       "      <td>Thanh lý hợp đồng internet</td>\n",
       "      <td>n40</td>\n",
       "      <td>Nguyên nhân liên quan đến chất lượng dịch vụ</td>\n",
       "      <td>s1</td>\n",
       "      <td>dx11+ll7+dx1</td>\n",
       "      <td>Thành công</td>\n",
       "    </tr>\n",
       "    <tr>\n",
       "      <th>1001</th>\n",
       "      <td>327</td>\n",
       "      <td>Thanh lý hợp đồng internet</td>\n",
       "      <td>n40</td>\n",
       "      <td>Nguyên nhân liên quan đến chất lượng dịch vụ</td>\n",
       "      <td>s1</td>\n",
       "      <td>dx1+ll3+ll7</td>\n",
       "      <td>Thành công</td>\n",
       "    </tr>\n",
       "    <tr>\n",
       "      <th>1085</th>\n",
       "      <td>361</td>\n",
       "      <td>Thanh lý hợp đồng internet</td>\n",
       "      <td>n40</td>\n",
       "      <td>Nguyên nhân liên quan đến chất lượng dịch vụ</td>\n",
       "      <td>s2</td>\n",
       "      <td>dx11+dx1+dx6</td>\n",
       "      <td>Thành công</td>\n",
       "    </tr>\n",
       "    <tr>\n",
       "      <th>1101</th>\n",
       "      <td>369</td>\n",
       "      <td>Thanh lý hợp đồng internet</td>\n",
       "      <td>n40</td>\n",
       "      <td>Nguyên nhân liên quan đến chất lượng dịch vụ</td>\n",
       "      <td>s1</td>\n",
       "      <td>dx1+dx11+dx14</td>\n",
       "      <td>Thành công</td>\n",
       "    </tr>\n",
       "    <tr>\n",
       "      <th>1143</th>\n",
       "      <td>384</td>\n",
       "      <td>Thanh lý hợp đồng internet</td>\n",
       "      <td>n40</td>\n",
       "      <td>Nguyên nhân liên quan đến chất lượng dịch vụ</td>\n",
       "      <td>s1</td>\n",
       "      <td>ll4+dx1+dx14</td>\n",
       "      <td>Thành công</td>\n",
       "    </tr>\n",
       "    <tr>\n",
       "      <th>1144</th>\n",
       "      <td>385</td>\n",
       "      <td>Thanh lý hợp đồng internet</td>\n",
       "      <td>n40</td>\n",
       "      <td>Nguyên nhân liên quan đến chất lượng dịch vụ</td>\n",
       "      <td>s1</td>\n",
       "      <td>dx1+dx14</td>\n",
       "      <td>Thành công</td>\n",
       "    </tr>\n",
       "    <tr>\n",
       "      <th>1247</th>\n",
       "      <td>418</td>\n",
       "      <td>Thanh lý hợp đồng internet</td>\n",
       "      <td>n40</td>\n",
       "      <td>Nguyên nhân liên quan đến chất lượng dịch vụ</td>\n",
       "      <td>s2</td>\n",
       "      <td>dx1</td>\n",
       "      <td>Thành công</td>\n",
       "    </tr>\n",
       "    <tr>\n",
       "      <th>1277</th>\n",
       "      <td>426</td>\n",
       "      <td>Thanh lý hợp đồng internet</td>\n",
       "      <td>n40</td>\n",
       "      <td>Nguyên nhân liên quan đến chất lượng dịch vụ</td>\n",
       "      <td>s1</td>\n",
       "      <td>dx1+ll25</td>\n",
       "      <td>Thành công</td>\n",
       "    </tr>\n",
       "    <tr>\n",
       "      <th>1298</th>\n",
       "      <td>433</td>\n",
       "      <td>Thanh lý hợp đồng internet</td>\n",
       "      <td>n40</td>\n",
       "      <td>Nguyên nhân liên quan đến chất lượng dịch vụ</td>\n",
       "      <td>s3</td>\n",
       "      <td>hd3+dx1+ll25</td>\n",
       "      <td>Thành công</td>\n",
       "    </tr>\n",
       "    <tr>\n",
       "      <th>1486</th>\n",
       "      <td>503</td>\n",
       "      <td>Thanh lý hợp đồng internet</td>\n",
       "      <td>n40</td>\n",
       "      <td>Nguyên nhân liên quan đến chất lượng dịch vụ</td>\n",
       "      <td>s1</td>\n",
       "      <td>dx1</td>\n",
       "      <td>Thành công</td>\n",
       "    </tr>\n",
       "    <tr>\n",
       "      <th>1552</th>\n",
       "      <td>530</td>\n",
       "      <td>Thanh lý hợp đồng internet</td>\n",
       "      <td>n40</td>\n",
       "      <td>Nguyên nhân liên quan đến chất lượng dịch vụ</td>\n",
       "      <td>s1</td>\n",
       "      <td>hd3+dx1</td>\n",
       "      <td>Thành công</td>\n",
       "    </tr>\n",
       "    <tr>\n",
       "      <th>1668</th>\n",
       "      <td>581</td>\n",
       "      <td>Thanh lý hợp đồng internet</td>\n",
       "      <td>n40</td>\n",
       "      <td>Nguyên nhân liên quan đến chất lượng dịch vụ</td>\n",
       "      <td>s2</td>\n",
       "      <td>gt10+dx1+dx14+dx2</td>\n",
       "      <td>Thành công</td>\n",
       "    </tr>\n",
       "  </tbody>\n",
       "</table>\n",
       "</div>"
      ],
      "text/plain": [
       "      case_id             Nội dung hỗ trợ Reason  \\\n",
       "144        35  Thanh lý hợp đồng internet    n40   \n",
       "382       106  Thanh lý hợp đồng internet    n40   \n",
       "517       154  Thanh lý hợp đồng internet    n40   \n",
       "582       174  Thanh lý hợp đồng internet    n40   \n",
       "590       177  Thanh lý hợp đồng internet    n40   \n",
       "592       178  Thanh lý hợp đồng internet    n40   \n",
       "616       185  Thanh lý hợp đồng internet    n40   \n",
       "750       237  Thanh lý hợp đồng internet    n40   \n",
       "1001      327  Thanh lý hợp đồng internet    n40   \n",
       "1085      361  Thanh lý hợp đồng internet    n40   \n",
       "1101      369  Thanh lý hợp đồng internet    n40   \n",
       "1143      384  Thanh lý hợp đồng internet    n40   \n",
       "1144      385  Thanh lý hợp đồng internet    n40   \n",
       "1247      418  Thanh lý hợp đồng internet    n40   \n",
       "1277      426  Thanh lý hợp đồng internet    n40   \n",
       "1298      433  Thanh lý hợp đồng internet    n40   \n",
       "1486      503  Thanh lý hợp đồng internet    n40   \n",
       "1552      530  Thanh lý hợp đồng internet    n40   \n",
       "1668      581  Thanh lý hợp đồng internet    n40   \n",
       "\n",
       "                                      Reason Group Solution  \\\n",
       "144   Nguyên nhân liên quan đến chất lượng dịch vụ       s4   \n",
       "382   Nguyên nhân liên quan đến chất lượng dịch vụ       s2   \n",
       "517   Nguyên nhân liên quan đến chất lượng dịch vụ       s2   \n",
       "582   Nguyên nhân liên quan đến chất lượng dịch vụ       s2   \n",
       "590   Nguyên nhân liên quan đến chất lượng dịch vụ       s3   \n",
       "592   Nguyên nhân liên quan đến chất lượng dịch vụ       s2   \n",
       "616   Nguyên nhân liên quan đến chất lượng dịch vụ       s2   \n",
       "750   Nguyên nhân liên quan đến chất lượng dịch vụ       s1   \n",
       "1001  Nguyên nhân liên quan đến chất lượng dịch vụ       s1   \n",
       "1085  Nguyên nhân liên quan đến chất lượng dịch vụ       s2   \n",
       "1101  Nguyên nhân liên quan đến chất lượng dịch vụ       s1   \n",
       "1143  Nguyên nhân liên quan đến chất lượng dịch vụ       s1   \n",
       "1144  Nguyên nhân liên quan đến chất lượng dịch vụ       s1   \n",
       "1247  Nguyên nhân liên quan đến chất lượng dịch vụ       s2   \n",
       "1277  Nguyên nhân liên quan đến chất lượng dịch vụ       s1   \n",
       "1298  Nguyên nhân liên quan đến chất lượng dịch vụ       s3   \n",
       "1486  Nguyên nhân liên quan đến chất lượng dịch vụ       s1   \n",
       "1552  Nguyên nhân liên quan đến chất lượng dịch vụ       s1   \n",
       "1668  Nguyên nhân liên quan đến chất lượng dịch vụ       s2   \n",
       "\n",
       "            Combination Solution Result  \n",
       "144            dx1+dx10      Thành công  \n",
       "382        ll4+dx1+dx14      Thành công  \n",
       "517    dx1+dx6+dx13+ll6      Thành công  \n",
       "582        dx1+dx8+dx14      Thành công  \n",
       "590             dx1+dx6      Thành công  \n",
       "592         dx1+ll7+ll4      Thành công  \n",
       "616            dx1+ll25      Thành công  \n",
       "750        dx11+ll7+dx1      Thành công  \n",
       "1001        dx1+ll3+ll7      Thành công  \n",
       "1085       dx11+dx1+dx6      Thành công  \n",
       "1101      dx1+dx11+dx14      Thành công  \n",
       "1143       ll4+dx1+dx14      Thành công  \n",
       "1144           dx1+dx14      Thành công  \n",
       "1247                dx1      Thành công  \n",
       "1277           dx1+ll25      Thành công  \n",
       "1298       hd3+dx1+ll25      Thành công  \n",
       "1486                dx1      Thành công  \n",
       "1552            hd3+dx1      Thành công  \n",
       "1668  gt10+dx1+dx14+dx2      Thành công  "
      ]
     },
     "execution_count": 8,
     "metadata": {},
     "output_type": "execute_result"
    }
   ],
   "source": [
    "processing_df"
   ]
  },
  {
   "cell_type": "markdown",
   "id": "b15dbb9c-53f2-4c47-96d7-1e688257b8f0",
   "metadata": {},
   "source": [
    "# Generate graph"
   ]
  },
  {
   "cell_type": "code",
   "execution_count": 9,
   "id": "c021764a-1612-49a2-a367-eba6780660ed",
   "metadata": {},
   "outputs": [],
   "source": [
    "def generate_graph(df):\n",
    "    G = nx.Graph()\n",
    "    \n",
    "    edge_count = {}\n",
    "\n",
    "    for index, row in df.iterrows():\n",
    "        # Split the 'Combination' column into components\n",
    "        components = row[\"Combination\"].split('+')\n",
    "\n",
    "        # Add edges between all pairs of components in the same row\n",
    "        for i in range(len(components)):\n",
    "            for j in range(i + 1, len(components)):\n",
    "                # Sort the pair of components to avoid duplicate edges (ds8, hd13) vs (hd13, ds8)\n",
    "                edge = tuple(sorted([components[i], components[j]]))\n",
    "\n",
    "                # Count occurrences of each edge\n",
    "                if edge in edge_count:\n",
    "                    edge_count[edge] += 1\n",
    "                else:\n",
    "                    edge_count[edge] = 1\n",
    "\n",
    "    # Add edges to the graph\n",
    "    for edge, count in edge_count.items():\n",
    "        G.add_edge(edge[0], edge[1], weight=count)\n",
    "\n",
    "    return G"
   ]
  },
  {
   "cell_type": "code",
   "execution_count": 10,
   "id": "27e2262e-2246-4991-b342-d7460eb8f90d",
   "metadata": {},
   "outputs": [],
   "source": [
    "G = generate_graph(processing_df)"
   ]
  },
  {
   "cell_type": "code",
   "execution_count": 11,
   "id": "92ee8d02-29f4-423a-a646-e0225fa1bb61",
   "metadata": {},
   "outputs": [
    {
     "name": "stdout",
     "output_type": "stream",
     "text": [
      "Graph with 15 nodes and 28 edges\n"
     ]
    }
   ],
   "source": [
    "print(G)"
   ]
  },
  {
   "cell_type": "code",
   "execution_count": 12,
   "id": "44fed8b5-321e-4797-a3ff-dd6131b4e5ee",
   "metadata": {},
   "outputs": [
    {
     "name": "stdout",
     "output_type": "stream",
     "text": [
      "('dx1', 'dx10', {'weight': 1})\n",
      "('dx1', 'll4', {'weight': 3})\n",
      "('dx1', 'dx14', {'weight': 6})\n",
      "('dx1', 'dx6', {'weight': 3})\n",
      "('dx1', 'dx13', {'weight': 1})\n",
      "('dx1', 'll6', {'weight': 1})\n",
      "('dx1', 'dx8', {'weight': 1})\n",
      "('dx1', 'll7', {'weight': 3})\n",
      "('dx1', 'll25', {'weight': 3})\n",
      "('dx1', 'dx11', {'weight': 3})\n",
      "('dx1', 'll3', {'weight': 1})\n",
      "('dx1', 'hd3', {'weight': 2})\n",
      "('dx1', 'gt10', {'weight': 1})\n",
      "('dx1', 'dx2', {'weight': 1})\n",
      "('ll4', 'dx14', {'weight': 2})\n",
      "('ll4', 'll7', {'weight': 1})\n",
      "('dx14', 'dx8', {'weight': 1})\n",
      "('dx14', 'dx11', {'weight': 1})\n",
      "('dx14', 'gt10', {'weight': 1})\n",
      "('dx14', 'dx2', {'weight': 1})\n",
      "('dx6', 'dx13', {'weight': 1})\n",
      "('dx6', 'll6', {'weight': 1})\n",
      "('dx6', 'dx11', {'weight': 1})\n",
      "('dx13', 'll6', {'weight': 1})\n",
      "('ll7', 'dx11', {'weight': 1})\n",
      "('ll7', 'll3', {'weight': 1})\n",
      "('ll25', 'hd3', {'weight': 1})\n",
      "('gt10', 'dx2', {'weight': 1})\n"
     ]
    }
   ],
   "source": [
    "for edge in G.edges(data=True):\n",
    "    print(edge)"
   ]
  },
  {
   "cell_type": "markdown",
   "id": "2702587c-e93e-4973-aa86-328531d44bf7",
   "metadata": {},
   "source": [
    "# convert to frequency_df"
   ]
  },
  {
   "cell_type": "code",
   "execution_count": 13,
   "id": "09d95b2a-0e36-4a74-a9f9-1a073761790f",
   "metadata": {},
   "outputs": [],
   "source": [
    "# Extract edges with weights\n",
    "temp_data = [(f\"{u}+{v}\", attr['weight']) for u, v, attr in G.edges(data=True)]\n",
    "\n",
    "# Create a DataFrame\n",
    "frequency_df = pd.DataFrame(temp_data, columns=['combination', 'frequency'])"
   ]
  },
  {
   "cell_type": "code",
   "execution_count": 14,
   "id": "a6a4c601-426f-4921-9cc0-b4088067a760",
   "metadata": {},
   "outputs": [
    {
     "data": {
      "text/html": [
       "<div>\n",
       "<style scoped>\n",
       "    .dataframe tbody tr th:only-of-type {\n",
       "        vertical-align: middle;\n",
       "    }\n",
       "\n",
       "    .dataframe tbody tr th {\n",
       "        vertical-align: top;\n",
       "    }\n",
       "\n",
       "    .dataframe thead th {\n",
       "        text-align: right;\n",
       "    }\n",
       "</style>\n",
       "<table border=\"1\" class=\"dataframe\">\n",
       "  <thead>\n",
       "    <tr style=\"text-align: right;\">\n",
       "      <th></th>\n",
       "      <th>combination</th>\n",
       "      <th>frequency</th>\n",
       "    </tr>\n",
       "  </thead>\n",
       "  <tbody>\n",
       "    <tr>\n",
       "      <th>0</th>\n",
       "      <td>dx1+dx10</td>\n",
       "      <td>1</td>\n",
       "    </tr>\n",
       "    <tr>\n",
       "      <th>1</th>\n",
       "      <td>dx1+ll4</td>\n",
       "      <td>3</td>\n",
       "    </tr>\n",
       "    <tr>\n",
       "      <th>2</th>\n",
       "      <td>dx1+dx14</td>\n",
       "      <td>6</td>\n",
       "    </tr>\n",
       "    <tr>\n",
       "      <th>3</th>\n",
       "      <td>dx1+dx6</td>\n",
       "      <td>3</td>\n",
       "    </tr>\n",
       "    <tr>\n",
       "      <th>4</th>\n",
       "      <td>dx1+dx13</td>\n",
       "      <td>1</td>\n",
       "    </tr>\n",
       "    <tr>\n",
       "      <th>5</th>\n",
       "      <td>dx1+ll6</td>\n",
       "      <td>1</td>\n",
       "    </tr>\n",
       "    <tr>\n",
       "      <th>6</th>\n",
       "      <td>dx1+dx8</td>\n",
       "      <td>1</td>\n",
       "    </tr>\n",
       "    <tr>\n",
       "      <th>7</th>\n",
       "      <td>dx1+ll7</td>\n",
       "      <td>3</td>\n",
       "    </tr>\n",
       "    <tr>\n",
       "      <th>8</th>\n",
       "      <td>dx1+ll25</td>\n",
       "      <td>3</td>\n",
       "    </tr>\n",
       "    <tr>\n",
       "      <th>9</th>\n",
       "      <td>dx1+dx11</td>\n",
       "      <td>3</td>\n",
       "    </tr>\n",
       "    <tr>\n",
       "      <th>10</th>\n",
       "      <td>dx1+ll3</td>\n",
       "      <td>1</td>\n",
       "    </tr>\n",
       "    <tr>\n",
       "      <th>11</th>\n",
       "      <td>dx1+hd3</td>\n",
       "      <td>2</td>\n",
       "    </tr>\n",
       "    <tr>\n",
       "      <th>12</th>\n",
       "      <td>dx1+gt10</td>\n",
       "      <td>1</td>\n",
       "    </tr>\n",
       "    <tr>\n",
       "      <th>13</th>\n",
       "      <td>dx1+dx2</td>\n",
       "      <td>1</td>\n",
       "    </tr>\n",
       "    <tr>\n",
       "      <th>14</th>\n",
       "      <td>ll4+dx14</td>\n",
       "      <td>2</td>\n",
       "    </tr>\n",
       "    <tr>\n",
       "      <th>15</th>\n",
       "      <td>ll4+ll7</td>\n",
       "      <td>1</td>\n",
       "    </tr>\n",
       "    <tr>\n",
       "      <th>16</th>\n",
       "      <td>dx14+dx8</td>\n",
       "      <td>1</td>\n",
       "    </tr>\n",
       "    <tr>\n",
       "      <th>17</th>\n",
       "      <td>dx14+dx11</td>\n",
       "      <td>1</td>\n",
       "    </tr>\n",
       "    <tr>\n",
       "      <th>18</th>\n",
       "      <td>dx14+gt10</td>\n",
       "      <td>1</td>\n",
       "    </tr>\n",
       "    <tr>\n",
       "      <th>19</th>\n",
       "      <td>dx14+dx2</td>\n",
       "      <td>1</td>\n",
       "    </tr>\n",
       "    <tr>\n",
       "      <th>20</th>\n",
       "      <td>dx6+dx13</td>\n",
       "      <td>1</td>\n",
       "    </tr>\n",
       "    <tr>\n",
       "      <th>21</th>\n",
       "      <td>dx6+ll6</td>\n",
       "      <td>1</td>\n",
       "    </tr>\n",
       "    <tr>\n",
       "      <th>22</th>\n",
       "      <td>dx6+dx11</td>\n",
       "      <td>1</td>\n",
       "    </tr>\n",
       "    <tr>\n",
       "      <th>23</th>\n",
       "      <td>dx13+ll6</td>\n",
       "      <td>1</td>\n",
       "    </tr>\n",
       "    <tr>\n",
       "      <th>24</th>\n",
       "      <td>ll7+dx11</td>\n",
       "      <td>1</td>\n",
       "    </tr>\n",
       "    <tr>\n",
       "      <th>25</th>\n",
       "      <td>ll7+ll3</td>\n",
       "      <td>1</td>\n",
       "    </tr>\n",
       "    <tr>\n",
       "      <th>26</th>\n",
       "      <td>ll25+hd3</td>\n",
       "      <td>1</td>\n",
       "    </tr>\n",
       "    <tr>\n",
       "      <th>27</th>\n",
       "      <td>gt10+dx2</td>\n",
       "      <td>1</td>\n",
       "    </tr>\n",
       "  </tbody>\n",
       "</table>\n",
       "</div>"
      ],
      "text/plain": [
       "   combination  frequency\n",
       "0     dx1+dx10          1\n",
       "1      dx1+ll4          3\n",
       "2     dx1+dx14          6\n",
       "3      dx1+dx6          3\n",
       "4     dx1+dx13          1\n",
       "5      dx1+ll6          1\n",
       "6      dx1+dx8          1\n",
       "7      dx1+ll7          3\n",
       "8     dx1+ll25          3\n",
       "9     dx1+dx11          3\n",
       "10     dx1+ll3          1\n",
       "11     dx1+hd3          2\n",
       "12    dx1+gt10          1\n",
       "13     dx1+dx2          1\n",
       "14    ll4+dx14          2\n",
       "15     ll4+ll7          1\n",
       "16    dx14+dx8          1\n",
       "17   dx14+dx11          1\n",
       "18   dx14+gt10          1\n",
       "19    dx14+dx2          1\n",
       "20    dx6+dx13          1\n",
       "21     dx6+ll6          1\n",
       "22    dx6+dx11          1\n",
       "23    dx13+ll6          1\n",
       "24    ll7+dx11          1\n",
       "25     ll7+ll3          1\n",
       "26    ll25+hd3          1\n",
       "27    gt10+dx2          1"
      ]
     },
     "execution_count": 14,
     "metadata": {},
     "output_type": "execute_result"
    }
   ],
   "source": [
    "frequency_df"
   ]
  },
  {
   "cell_type": "markdown",
   "id": "0dc648ed-a81c-4dd4-87c2-686360829b80",
   "metadata": {},
   "source": [
    "# Louvain"
   ]
  },
  {
   "cell_type": "code",
   "execution_count": 15,
   "id": "80847f94-5b16-4b9f-9c0e-9d22593caf03",
   "metadata": {
    "scrolled": true
   },
   "outputs": [
    {
     "name": "stdout",
     "output_type": "stream",
     "text": [
      "Phân cộng đồng (Louvain):\n",
      "Node dx1 nằm trong cộng đồng 0\n",
      "Node dx10 nằm trong cộng đồng 0\n",
      "Node ll4 nằm trong cộng đồng 1\n",
      "Node dx14 nằm trong cộng đồng 1\n",
      "Node dx6 nằm trong cộng đồng 2\n",
      "Node dx13 nằm trong cộng đồng 2\n",
      "Node ll6 nằm trong cộng đồng 2\n",
      "Node dx8 nằm trong cộng đồng 1\n",
      "Node ll7 nằm trong cộng đồng 0\n",
      "Node ll25 nằm trong cộng đồng 0\n",
      "Node dx11 nằm trong cộng đồng 0\n",
      "Node ll3 nằm trong cộng đồng 0\n",
      "Node hd3 nằm trong cộng đồng 0\n",
      "Node gt10 nằm trong cộng đồng 1\n",
      "Node dx2 nằm trong cộng đồng 1\n"
     ]
    }
   ],
   "source": [
    "partition = community_louvain.best_partition(G, weight='weight')\n",
    "\n",
    "print(\"Phân cộng đồng (Louvain):\")\n",
    "for node, comm in partition.items():\n",
    "    print(f\"Node {node} nằm trong cộng đồng {comm}\")"
   ]
  },
  {
   "cell_type": "code",
   "execution_count": 16,
   "id": "b30cfc9e-96a9-42f9-b47e-9ed34084396f",
   "metadata": {},
   "outputs": [],
   "source": [
    "partition_df = pd.DataFrame(list(partition.items()), columns=['Protocol', 'Community'])"
   ]
  },
  {
   "cell_type": "code",
   "execution_count": 17,
   "id": "a00e1ddd-683c-4ce4-96fa-3237a23ab7f4",
   "metadata": {},
   "outputs": [
    {
     "data": {
      "image/png": "[encoded data removed]",
      "text/plain": [
       "<Figure size 800x600 with 1 Axes>"
      ]
     },
     "metadata": {},
     "output_type": "display_data"
    }
   ],
   "source": [
    "# Tạo danh sách màu sắc dựa trên cộng đồng\n",
    "colors = [partition[node] for node in G.nodes()]\n",
    "\n",
    "# Vẽ đồ thị với màu sắc theo cộng đồng\n",
    "plt.figure(figsize=(8, 6))\n",
    "nx.draw(G, with_labels=True, node_color=colors, node_size=700, cmap=plt.cm.tab20, font_weight=\"bold\")\n",
    "plt.title(\"Phân cụm các nút theo cộng đồng (Louvain)\")\n",
    "plt.show()"
   ]
  },
  {
   "cell_type": "code",
   "execution_count": 18,
   "id": "76062534-ca79-467b-ac37-c195b5fd57b8",
   "metadata": {
    "scrolled": true
   },
   "outputs": [
    {
     "name": "stdout",
     "output_type": "stream",
     "text": [
      "Warning: When  cdn_resources is 'local' jupyter notebook has issues displaying graphics on chrome/safari. Use cdn_resources='in_line' or cdn_resources='remote' if you have issues viewing graphics in a notebook.\n",
      "community_detection_static_spread.html\n"
     ]
    },
    {
     "data": {
      "text/html": [
       "\n",
       "        <iframe\n",
       "            width=\"100%\"\n",
       "            height=\"600px\"\n",
       "            src=\"community_detection_static_spread.html\"\n",
       "            frameborder=\"0\"\n",
       "            allowfullscreen\n",
       "            \n",
       "        ></iframe>\n",
       "        "
      ],
      "text/plain": [
       "<IPython.lib.display.IFrame at 0x205f2087f20>"
      ]
     },
     "execution_count": 18,
     "metadata": {},
     "output_type": "execute_result"
    }
   ],
   "source": [
    "# Tạo đối tượng Pyvis Network\n",
    "net = Network(notebook=True)\n",
    "\n",
    "# Danh sách các màu sắc tương phản (màu sắc có thể được tuỳ chỉnh thêm)\n",
    "community_colors = [\n",
    "    \"rgb(255, 0, 0)\",     # Đỏ\n",
    "    \"rgb(0, 255, 0)\",     # Xanh lá\n",
    "    \"rgb(0, 0, 255)\",     # Xanh dương\n",
    "    \"rgb(255, 255, 0)\",   # Vàng\n",
    "    \"rgb(0, 255, 255)\",   # Xanh lam\n",
    "    \"rgb(255, 165, 0)\",   # Cam\n",
    "    \"rgb(255, 105, 180)\", # Hồng\n",
    "    \"rgb(128, 0, 128)\",   # Tím\n",
    "    \"rgb(0, 128, 0)\",     # Xanh lá đậm\n",
    "    \"rgb(255, 99, 71)\"    # Đỏ cam\n",
    "]\n",
    "\n",
    "# Thêm các nút và màu sắc theo cộng đồng\n",
    "for node in G.nodes():\n",
    "    community = partition[node]  # Cộng đồng của nút\n",
    "    color = community_colors[community % len(community_colors)]  # Lấy màu cho cộng đồng\n",
    "    net.add_node(node, label=str(node), title=f\"Cộng đồng {community}\", color=color)\n",
    "\n",
    "# Thêm các cạnh\n",
    "for edge in G.edges():\n",
    "    net.add_edge(edge[0], edge[1])\n",
    "\n",
    "# Tắt chuyển động (physics) và phân tán các nút\n",
    "net.force_atlas_2based(gravity=-100, central_gravity=0.01, spring_length=150, spring_strength=0.08, damping=0.9)\n",
    "net.set_options(\"\"\"\n",
    "var options = {\n",
    "  \"physics\": {\n",
    "    \"enabled\": false\n",
    "  },\n",
    "  \"layout\": {\n",
    "    \"randomSeed\": 42\n",
    "  }\n",
    "}\n",
    "\"\"\")\n",
    "\n",
    "# Hiển thị đồ thị\n",
    "net.show(\"community_detection_static_spread.html\")"
   ]
  },
  {
   "cell_type": "markdown",
   "id": "9596c767-6e4a-4734-bd94-bb9f58f47c63",
   "metadata": {},
   "source": [
    "# Social Analysis"
   ]
  },
  {
   "cell_type": "code",
   "execution_count": 19,
   "id": "b6b1f791-be39-48e6-ae93-6ba4dab08dbf",
   "metadata": {},
   "outputs": [
    {
     "name": "stdout",
     "output_type": "stream",
     "text": [
      "Top 10 PageRank:\n",
      "1. Node dx1: PageRank = 0.306073\n",
      "2. Node dx14: PageRank = 0.121975\n",
      "3. Node dx6: PageRank = 0.067319\n",
      "4. Node ll7: PageRank = 0.065781\n",
      "5. Node dx11: PageRank = 0.063512\n",
      "6. Node ll4: PageRank = 0.062615\n",
      "7. Node ll25: PageRank = 0.046568\n",
      "8. Node dx13: PageRank = 0.039361\n",
      "9. Node ll6: PageRank = 0.039361\n",
      "10. Node gt10: PageRank = 0.038110\n"
     ]
    }
   ],
   "source": [
    "pagerank = nx.pagerank(G)\n",
    "\n",
    "sorted_pagerank = sorted(pagerank.items(), key=lambda x: x[1], reverse=True)\n",
    "\n",
    "print(\"Top 10 PageRank:\")\n",
    "for i, (node, rank) in enumerate(sorted_pagerank[:10], start=1):\n",
    "    print(f\"{i}. Node {node}: PageRank = {rank:.6f}\")"
   ]
  },
  {
   "cell_type": "code",
   "execution_count": 20,
   "id": "758c5101-9eae-4314-8684-74222e77ecb0",
   "metadata": {},
   "outputs": [
    {
     "name": "stdout",
     "output_type": "stream",
     "text": [
      "Top 10 Degree Centrality:\n",
      "1. Node dx1: Degree Centrality = 1.000000\n",
      "2. Node dx14: Degree Centrality = 0.428571\n",
      "3. Node dx6: Degree Centrality = 0.285714\n",
      "4. Node ll7: Degree Centrality = 0.285714\n",
      "5. Node dx11: Degree Centrality = 0.285714\n",
      "6. Node ll4: Degree Centrality = 0.214286\n",
      "7. Node dx13: Degree Centrality = 0.214286\n",
      "8. Node ll6: Degree Centrality = 0.214286\n",
      "9. Node gt10: Degree Centrality = 0.214286\n",
      "10. Node dx2: Degree Centrality = 0.214286\n"
     ]
    }
   ],
   "source": [
    "degree_centrality = nx.degree_centrality(G)\n",
    "\n",
    "sorted_degree = sorted(degree_centrality.items(), key=lambda x: x[1], reverse=True)\n",
    "\n",
    "print(\"Top 10 Degree Centrality:\")\n",
    "for i, (node, centrality) in enumerate(sorted_degree[:10], start=1):\n",
    "    print(f\"{i}. Node {node}: Degree Centrality = {centrality:.6f}\")"
   ]
  },
  {
   "cell_type": "code",
   "execution_count": 21,
   "id": "ab513ffb-f1c7-46dc-84b0-f23b354d46d8",
   "metadata": {},
   "outputs": [],
   "source": [
    "# Calculate PageRank\n",
    "pagerank = nx.pagerank(G)\n",
    "sorted_pagerank = sorted(pagerank.items(), key=lambda x: x[1], reverse=True)\n",
    "\n",
    "# Calculate Degree Centrality\n",
    "degree_centrality = nx.degree_centrality(G)\n",
    "sorted_degree = sorted(degree_centrality.items(), key=lambda x: x[1], reverse=True)\n",
    "\n",
    "# Convert results to DataFrames\n",
    "pagerank_df = pd.DataFrame(sorted_pagerank, columns=[\"Node\", \"PageRank\"])\n",
    "degree_centrality_df = pd.DataFrame(sorted_degree, columns=[\"Node\", \"Degree Centrality\"])"
   ]
  },
  {
   "cell_type": "markdown",
   "id": "8d0db570-eb49-4e1c-be96-8596563497a4",
   "metadata": {},
   "source": [
    "# Export"
   ]
  },
  {
   "cell_type": "code",
   "execution_count": 22,
   "id": "d564a4c4-6362-4fa0-b724-8c68bad6088f",
   "metadata": {},
   "outputs": [],
   "source": [
    "# frequency_df.to_excel(\"social_network/tvcombo_n40_cannhac_frequency.xlsx\")"
   ]
  },
  {
   "cell_type": "code",
   "execution_count": 23,
   "id": "1f719d84-8c24-43b2-8161-1f5502d07ff1",
   "metadata": {},
   "outputs": [],
   "source": [
    "# partition_df.to_excel(\"social_network/tvcombo_n40_cannhac_community.xlsx\")"
   ]
  },
  {
   "cell_type": "code",
   "execution_count": 24,
   "id": "4892e78a-a101-4853-a37c-97ca9bd8edee",
   "metadata": {},
   "outputs": [],
   "source": [
    "# # Save results to an Excel file\n",
    "# output_path = \"social_network/tvcombo_n40_cannhac_graph_centrality_analysis.xlsx\" \n",
    "# with pd.ExcelWriter(output_path) as writer:\n",
    "#     pagerank_df.to_excel(writer, sheet_name=\"PageRank\", index=False)\n",
    "#     degree_centrality_df.to_excel(writer, sheet_name=\"Degree Centrality\", index=False)"
   ]
  }
 ],
 "metadata": {
  "kernelspec": {
   "display_name": "Python 3 (ipykernel)",
   "language": "python",
   "name": "python3"
  },
  "language_info": {
   "codemirror_mode": {
    "name": "ipython",
    "version": 3
   },
   "file_extension": ".py",
   "mimetype": "text/x-python",
   "name": "python",
   "nbconvert_exporter": "python",
   "pygments_lexer": "ipython3",
   "version": "3.12.4"
  }
 },
 "nbformat": 4,
 "nbformat_minor": 5
}
